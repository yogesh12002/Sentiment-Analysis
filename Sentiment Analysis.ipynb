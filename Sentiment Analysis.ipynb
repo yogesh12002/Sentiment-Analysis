!pip install transformers torch
!pip install pandas # To work with dataframes
!pip install matplotlib seaborn # For visualization

# Sample dataset of reviews
reviews = [
    "The new software update is fantastic, everything works so smoothly now!",
    "I'm very disappointed with the customer service. They were unhelpful.",
    "The restaurant's food was bland and the service was slow.",
    "This book is an absolute masterpiece, a must-read for everyone.",
    "The delivery was on time, but the product was damaged.",
    "The team's performance was great, a truly impressive comeback."
]

import pandas as pd

# Replace 'your_path_to_file' with the actual path to your CSV file on Google Drive
# Example: '/content/drive/MyDrive/Data/reviews.csv'
file_path = '/content/drive/MyDrive/Data/your_reviews_dataset.csv'
df = pd.read_csv(file_path)

# Display the first few rows to confirm it loaded correctly
print(df.head())

# Assuming your text data is in a column named 'review_text'
reviews = df['review_text'].tolist()

import kagglehub

# Download latest version
path = kagglehub.dataset_download("abhi8923shriv/sentiment-analysis-dataset")

print("Path to dataset files:", path)

# Import the pipeline from the transformers library
from transformers import pipeline

# Load the pre-trained sentiment analysis model
# This model is a fine-tuned version of DistilBERT for sentiment classification.
# It will be downloaded the first time you run this cell.
sentiment_pipeline = pipeline('sentiment-analysis')

# Run the analysis on your list of reviews
results = sentiment_pipeline(reviews)

# Display the results
for i, review in enumerate(reviews):
    print(f"Review: '{review}'")
    print(f"Sentiment: {results[i]['label']} (Score: {results[i]['score']:.2f})\n")

import matplotlib.pyplot as plt
import seaborn as sns
import pandas as pd

# Extract labels from the results
sentiment_labels = [result['label'] for result in results]

# Count the occurrences of each sentiment
sentiment_counts = pd.Series(sentiment_labels).value_counts()

# Create a bar chart
plt.figure(figsize=(8, 6))
sns.barplot(x=sentiment_counts.index, y=sentiment_counts.values)
plt.title('Sentiment Distribution of Reviews')
plt.xlabel('Sentiment')
plt.ylabel('Number of Reviews')
plt.show()

# Create a pie chart
plt.figure(figsize=(8, 8))
plt.pie(sentiment_counts, labels=sentiment_counts.index, autopct='%1.1f%%', startangle=140, colors=['lightgreen', 'salmon', 'skyblue'])
plt.title('Sentiment Distribution of Reviews')
plt.show()
